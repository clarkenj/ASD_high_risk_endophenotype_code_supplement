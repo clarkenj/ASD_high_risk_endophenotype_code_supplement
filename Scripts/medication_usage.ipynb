{
 "cells": [
  {
   "cell_type": "markdown",
   "metadata": {},
   "source": [
    "# Investigate medication usage"
   ]
  },
  {
   "cell_type": "code",
   "execution_count": 1,
   "metadata": {},
   "outputs": [],
   "source": [
    "import pandas as pd\n",
    "import numpy as np\n",
    "import scipy.stats as stats\n",
    "\n",
    "from pathlib import Path"
   ]
  },
  {
   "cell_type": "code",
   "execution_count": 2,
   "metadata": {},
   "outputs": [],
   "source": [
    "root_p = Path('/home/neuromod/ASD_high_risk_endophenotype_code_supplement/20190524_Validation_Data/')\n",
    "model1_p = root_p / 'validation_net_split_1_model_1_combined_p_values.tsv'\n",
    "pheno_valid_p = root_p / 'ABIDE_2_Pheno_PSM_matched_ados.tsv'"
   ]
  },
  {
   "cell_type": "markdown",
   "metadata": {},
   "source": [
    "## Load and preparation"
   ]
  },
  {
   "cell_type": "code",
   "execution_count": 3,
   "metadata": {},
   "outputs": [],
   "source": [
    "pheno_valid = pd.read_csv(pheno_valid_p, sep='\\t')\n",
    "model1 = pd.read_csv(model1_p, sep='\\t')\n",
    "model1.rename(columns={'V1': 'p_ASD', 'V2': 'p_TDC'}, inplace=True)"
   ]
  },
  {
   "cell_type": "code",
   "execution_count": 4,
   "metadata": {},
   "outputs": [],
   "source": [
    "pheno_valid.loc[:, 'is_hps'] = ((model1.p_ASD>0.2) & (model1.p_TDC<=0.2)).values\n",
    "pheno_valid.loc[:, 'p_ASD'] = model1.loc[:, 'p_ASD'].values\n",
    "pheno_valid.loc[:, 'p_TDC'] = model1.loc[:, 'p_TDC'].values"
   ]
  },
  {
   "cell_type": "code",
   "execution_count": 5,
   "metadata": {},
   "outputs": [],
   "source": [
    "# Compute actual indices to avoid trusting the DF indices\n",
    "hps_idx = np.where(pheno_valid.is_hps)[0]\n",
    "non_hps_idx = np.where(~pheno_valid.is_hps)\n",
    "hps_asd_idx = np.where((pheno_valid.is_hps) & (pheno_valid.DX_GROUP=='Autism'))[0]\n",
    "non_hps_asd_idx = np.where((~pheno_valid.is_hps) & (pheno_valid.DX_GROUP=='Autism'))[0]"
   ]
  },
  {
   "cell_type": "markdown",
   "metadata": {},
   "source": [
    "## Calculate proportion of ASD taking medication, for those identified by HRS and those not"
   ]
  },
  {
   "cell_type": "code",
   "execution_count": 6,
   "metadata": {},
   "outputs": [
    {
     "data": {
      "text/plain": [
       "9"
      ]
     },
     "execution_count": 6,
     "metadata": {},
     "output_type": "execute_result"
    }
   ],
   "source": [
    "hps_asd_df = pheno_valid.iloc[hps_asd_idx]\n",
    "len(hps_asd_df)"
   ]
  },
  {
   "cell_type": "code",
   "execution_count": 7,
   "metadata": {},
   "outputs": [
    {
     "data": {
      "text/plain": [
       "54                      ibuprofen; naproxen\n",
       "322    dextroamphetamine; divalproex sodium\n",
       "330                sertraline; lansoprazole\n",
       "363                         methylphenidate\n",
       "Name: CURRENT_MEDICATION_NAME, dtype: object"
      ]
     },
     "execution_count": 7,
     "metadata": {},
     "output_type": "execute_result"
    }
   ],
   "source": [
    "hps_asd_df[hps_asd_df.CURRENT_MED_STATUS == 'taking medication']['CURRENT_MEDICATION_NAME']"
   ]
  },
  {
   "cell_type": "code",
   "execution_count": 8,
   "metadata": {},
   "outputs": [
    {
     "data": {
      "text/plain": [
       "203"
      ]
     },
     "execution_count": 8,
     "metadata": {},
     "output_type": "execute_result"
    }
   ],
   "source": [
    "non_hps_asd_df = pheno_valid.iloc[non_hps_asd_idx]\n",
    "len(non_hps_asd_df)"
   ]
  },
  {
   "cell_type": "code",
   "execution_count": 9,
   "metadata": {},
   "outputs": [
    {
     "data": {
      "text/plain": [
       "2                            aripiprazole; clomipramine \n",
       "4      aripiprazole; methylphenidate; lorazepam; meth...\n",
       "31               methyphenidate; multivitamins; omega 3 \n",
       "32                           lisdexamfetamine dimesylate\n",
       "34                               atomoxetine; loratadine\n",
       "35                      methylphenidate extended release\n",
       "41                                           atomoxetine\n",
       "44                               somatropin; atomoxetine\n",
       "50                      methylphenidate extended release\n",
       "55           cetirizine hydrochlorid; montelukast sodium\n",
       "57     fluoxetine; iron supplement; multivitamin; flu...\n",
       "58                                fluticasone propionate\n",
       "59                      multivitamin; omega 3 supplement\n",
       "62                      methylphenidate extended release\n",
       "64     methylphenidate extended release; multivitamin...\n",
       "77     methylphenidate hydrochloride; citalopram hydr...\n",
       "79     amphetamine and dextroamphetamine salts; sertr...\n",
       "80                                           simvastatin\n",
       "83             ziprasidone; guanfacine extended release \n",
       "86               lisdexamfetamine dimesylate; guanfacine\n",
       "95     valproic acid; methylphenidate extended releas...\n",
       "102                                         escitalopram\n",
       "105    amphetamine and dextroamphetamine mixed salt e...\n",
       "122                                   dexmethylphenidate\n",
       "146                                           citalopram\n",
       "148                           buproprion; valproic acid \n",
       "150                                           buproprion\n",
       "154                                          citalopram \n",
       "211                                   dexmethylphenidate\n",
       "222                                           melatonin \n",
       "226                       dexmethylphenidate; guanfacine\n",
       "231                                            bupropion\n",
       "237    clonidine; guanfacine; fluoxetine; buspirone; ...\n",
       "267                                          risperidone\n",
       "268                                         aripiprazole\n",
       "269                               sertraline; sertraline\n",
       "270                                          fluoxetine \n",
       "272                    methylphenidate extended release \n",
       "295                                   dexmehtylphenidate\n",
       "297    dextroamphetamine; amphetamine and dextroamphe...\n",
       "303    methylphenidate; methylphenidate extended rele...\n",
       "324                                           mesalamine\n",
       "326                                            trazodone\n",
       "327                           diphenhydramine; melatonin\n",
       "331    fluoxetine; cetirizine HCL; diphenhydramine; m...\n",
       "366                                           guanfacine\n",
       "368                     methylphenidate extended release\n",
       "370    guanfacine; atomoxetine; oxcarbazepine; aripip...\n",
       "378                    bupropion; topiramate; citalopram\n",
       "379                                          atomoxetine\n",
       "388                                            melatonin\n",
       "398                                  ibuprofen; fluoride\n",
       "400                     sertraline; buspirone; lorazepam\n",
       "Name: CURRENT_MEDICATION_NAME, dtype: object"
      ]
     },
     "execution_count": 9,
     "metadata": {},
     "output_type": "execute_result"
    }
   ],
   "source": [
    "non_hps_asd_df[non_hps_asd_df.CURRENT_MED_STATUS == 'taking medication']['CURRENT_MEDICATION_NAME']"
   ]
  },
  {
   "cell_type": "markdown",
   "metadata": {},
   "source": [
    "## Conduct Fisher's exact test to compare proportions between groups"
   ]
  },
  {
   "cell_type": "code",
   "execution_count": 10,
   "metadata": {},
   "outputs": [],
   "source": [
    "# Count individuals taking medication\n",
    "n_hps_asd_med = np.where(hps_asd_df['CURRENT_MED_STATUS'] == 'taking medication')[0].size\n",
    "n_non_hps_asd_med = np.where(non_hps_asd_df['CURRENT_MED_STATUS'] == 'taking medication')[0].size"
   ]
  },
  {
   "cell_type": "code",
   "execution_count": 11,
   "metadata": {},
   "outputs": [],
   "source": [
    "# Count individuals not taking medication\n",
    "n_hps_asd_no_med = len(hps_asd_df) - n_hps_asd_med\n",
    "n_non_hps_asd_no_med = len(non_hps_asd_df) - n_non_hps_asd_med"
   ]
  },
  {
   "cell_type": "code",
   "execution_count": 12,
   "metadata": {},
   "outputs": [],
   "source": [
    "# Construct the contingency table\n",
    "contingency_table = np.array([[n_hps_asd_med, n_hps_asd_no_med],\n",
    "                              [n_non_hps_asd_med, n_non_hps_asd_no_med]])"
   ]
  },
  {
   "cell_type": "code",
   "execution_count": 13,
   "metadata": {},
   "outputs": [
    {
     "data": {
      "text/plain": [
       "array([[  4,   5],\n",
       "       [ 53, 150]])"
      ]
     },
     "execution_count": 13,
     "metadata": {},
     "output_type": "execute_result"
    }
   ],
   "source": [
    "contingency_table"
   ]
  },
  {
   "cell_type": "code",
   "execution_count": 17,
   "metadata": {},
   "outputs": [],
   "source": [
    "result = stats.fisher_exact(contingency_table)"
   ]
  },
  {
   "cell_type": "code",
   "execution_count": 19,
   "metadata": {},
   "outputs": [
    {
     "data": {
      "text/plain": [
       "0.2544348696197456"
      ]
     },
     "execution_count": 19,
     "metadata": {},
     "output_type": "execute_result"
    }
   ],
   "source": [
    "result.pvalue"
   ]
  }
 ],
 "metadata": {
  "kernelspec": {
   "display_name": "Python 3 (ipykernel)",
   "language": "python",
   "name": "python3"
  },
  "language_info": {
   "codemirror_mode": {
    "name": "ipython",
    "version": 3
   },
   "file_extension": ".py",
   "mimetype": "text/x-python",
   "name": "python",
   "nbconvert_exporter": "python",
   "pygments_lexer": "ipython3",
   "version": "3.10.10"
  }
 },
 "nbformat": 4,
 "nbformat_minor": 4
}
