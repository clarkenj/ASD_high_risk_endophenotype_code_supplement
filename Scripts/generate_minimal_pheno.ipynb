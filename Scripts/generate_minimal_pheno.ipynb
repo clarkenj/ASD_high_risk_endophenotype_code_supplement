{
 "cells": [
  {
   "cell_type": "code",
   "execution_count": 1,
   "id": "5d6ea95d",
   "metadata": {},
   "outputs": [],
   "source": [
    "import pandas as pd\n",
    "\n",
    "from pathlib import Path"
   ]
  },
  {
   "cell_type": "code",
   "execution_count": 2,
   "id": "91a49de1",
   "metadata": {},
   "outputs": [],
   "source": [
    "root_p = Path('/home/neuromod/ASD_high_risk_endophenotype_code_supplement')\n",
    "pheno_validation_p = root_p / '20190524_Validation_Data' / 'ABIDE_2_Pheno_PSM_matched_ados.tsv'\n",
    "pheno_boot_p = root_p / 'Data'/ 'ABIDE_1_Pheno_PSM_matched_ados.tsv'"
   ]
  },
  {
   "cell_type": "code",
   "execution_count": 3,
   "id": "ad96b89d",
   "metadata": {},
   "outputs": [],
   "source": [
    "pheno_valid = pd.read_csv(pheno_validation_p, sep='\\t')\n",
    "pheno_boot = pd.read_csv(pheno_boot_p, sep='\\t')"
   ]
  },
  {
   "cell_type": "code",
   "execution_count": 4,
   "id": "eedb9f31",
   "metadata": {},
   "outputs": [],
   "source": [
    "pheno_valid_minimal = pheno_valid[['SUB_ID', 'DX_GROUP']]\n",
    "pheno_boot_minimal = pheno_boot[['SUB_ID', 'DX_GROUP']]"
   ]
  },
  {
   "cell_type": "code",
   "execution_count": 5,
   "id": "c22d41ed",
   "metadata": {},
   "outputs": [],
   "source": [
    "pheno_valid_minimal.to_csv(root_p / '20190524_Validation_Data' / 'ABIDE_2_Pheno_PSM_matched_ados.tsv', sep='\\t', index=False)\n",
    "pheno_boot_minimal.to_csv(root_p / 'Data'/ 'ABIDE_1_Pheno_PSM_matched_ados.tsv', sep='\\t', index=False)"
   ]
  }
 ],
 "metadata": {
  "kernelspec": {
   "display_name": "Python 3 (ipykernel)",
   "language": "python",
   "name": "python3"
  },
  "language_info": {
   "codemirror_mode": {
    "name": "ipython",
    "version": 3
   },
   "file_extension": ".py",
   "mimetype": "text/x-python",
   "name": "python",
   "nbconvert_exporter": "python",
   "pygments_lexer": "ipython3",
   "version": "3.10.10"
  }
 },
 "nbformat": 4,
 "nbformat_minor": 5
}
