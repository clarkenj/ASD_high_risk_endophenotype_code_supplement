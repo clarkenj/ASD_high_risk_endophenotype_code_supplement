{
 "cells": [
  {
   "cell_type": "markdown",
   "metadata": {},
   "source": [
    "# Fig 1 sideways\n",
    "- network correlation matrix with left bound names\n",
    "- three tier model precision view\n",
    "- brain networks color coded by ensembles\n",
    "- association between ASD conformal scores and behavioural metrics"
   ]
  },
  {
   "cell_type": "code",
   "execution_count": 1,
   "metadata": {},
   "outputs": [],
   "source": [
    "%matplotlib inline"
   ]
  },
  {
   "cell_type": "code",
   "execution_count": 2,
   "metadata": {},
   "outputs": [],
   "source": [
    "import pandas as pd\n",
    "import numpy as np\n",
    "import pathlib as pal\n",
    "import scipy as sp\n",
    "import seaborn as sbn\n",
    "import nibabel as nib\n",
    "from scipy import cluster as scl\n",
    "from matplotlib import pyplot as plt\n",
    "import matplotlib as mpl\n",
    "from matplotlib import gridspec\n",
    "from nilearn import plotting as nlp\n",
    "import nilearn.input_data as nii\n",
    "from matplotlib.colors import ListedColormap, LinearSegmentedColormap"
   ]
  },
  {
   "cell_type": "code",
   "execution_count": 6,
   "metadata": {},
   "outputs": [],
   "source": [
    "root_p = pal.Path('/home/surchs/Repositories/autismclassification/')\n",
    "pheno_p = root_p / 'Data/Sebastian Urchs - ABIDE1_Pheno_PSM_matched.tsv'\n",
    "labels_p =  '/home/surchs/GDrive/SCI/Paper/ASD_univariate/data_abide_univariate/ATLAS/MIST/Parcel_Information/MIST_20_nocereb.csv'\n",
    "comb_net_p0_p = '/home/surchs/combined_networks_{}_p0.tsv'\n",
    "comb_net_p1_p = '/home/surchs/combined_networks_{}_p1.tsv'\n",
    "atlas_p = '/home/surchs/GDrive/SCI/Paper/MIST/Release/Parcellations/MIST_20.nii.gz'\n",
    "mask_p = '/home/surchs/GDrive/SCI/Paper/MIST/Release/Parcellations/MIST_mask.nii.gz'\n",
    "split_net_p0_p = '/home/surchs/split_net_{}_p0.tsv'\n",
    "split_net_p1_p = '/home/surchs/split_net_{}_p1.tsv'\n",
    "all_net_p0_p = '/home/surchs/combined_networks_8_p0.tsv'\n",
    "all_net_p1_p = '/home/surchs/combined_networks_8_p1.tsv'\n",
    "data_t = root_p / 'Data/Results_Instance_{}_Network_{}.csv'\n",
    "\n",
    "#fig_p = pal.Path('/home/surchs/VM_Folders/P3_figures/fig1/')\n",
    "#if not fig_p.is_dir():\n",
    "#    fig_p.mkdir()"
   ]
  },
  {
   "cell_type": "code",
   "execution_count": 8,
   "metadata": {},
   "outputs": [
    {
     "data": {
      "text/plain": [
       "NiftiMasker(detrend=False, dtype=None, high_pass=None, low_pass=None,\n",
       "            mask_args=None,\n",
       "            mask_img=<nibabel.nifti1.Nifti1Image object at 0x7f179c274880>,\n",
       "            mask_strategy='background', memory=Memory(location=None),\n",
       "            memory_level=1, reports=True, sample_mask=None, sessions=None,\n",
       "            smoothing_fwhm=None, standardize=False, t_r=None,\n",
       "            target_affine=None, target_shape=None, verbose=0)"
      ]
     },
     "execution_count": 8,
     "metadata": {},
     "output_type": "execute_result"
    }
   ],
   "source": [
    "pheno = pd.read_csv(pheno_p, sep='\\t')\n",
    "atlas_i = nib.load(atlas_p)\n",
    "mask_i = nib.load(mask_p)\n",
    "has_autism = (pheno.DX_GROUP=='Autism').values.astype(int)\n",
    "network_labels = pd.read_csv(labels_p, sep=';')\n",
    "\n",
    "voxel_masker = nii.NiftiMasker(mask_img=mask_i, standardize=False)\n",
    "voxel_masker.fit()"
   ]
  },
  {
   "cell_type": "code",
   "execution_count": 23,
   "metadata": {},
   "outputs": [],
   "source": [
    "results_array = np.stack([[pd.read_csv(str(data_t).format(instance+1, net+1)).values[:, 1:] \n",
    "                           for instance in range(100)] \n",
    "                          for net in range(18)], -1)"
   ]
  },
  {
   "cell_type": "code",
   "execution_count": 11,
   "metadata": {},
   "outputs": [],
   "source": [
    "easy_names = [\"bas. gangl.\",\"vent. soma.mot.\",\"orb.front. ctx\",\n",
    "              \"VMPFC\",\"inf. temp. gyr.\",\"task control\",\n",
    "              \"auditory\",\"med. visual\",\"amygd. hippocamp.\",\n",
    "              \"dors. soma.mot.\",\"vent. att.\",\"ant. DMN\",\"post.med. DMN\",\n",
    "              \"lat. visual\",\"dwnstrm visual\",\"lat. DMN\",\"lat. vent. att.\",\"front.-par.\"]"
   ]
  },
  {
   "cell_type": "code",
   "execution_count": 12,
   "metadata": {},
   "outputs": [],
   "source": [
    "network_labels['easy'] = easy_names"
   ]
  },
  {
   "cell_type": "code",
   "execution_count": 13,
   "metadata": {},
   "outputs": [],
   "source": [
    "def mm2in(mm):\n",
    "    return mm/25.4"
   ]
  },
  {
   "cell_type": "markdown",
   "metadata": {},
   "source": [
    "# Remember: those are R-indices -> they start at 1 and go to 410"
   ]
  },
  {
   "cell_type": "code",
   "execution_count": 14,
   "metadata": {},
   "outputs": [],
   "source": [
    "manual_network_order = [18, \n",
    "                        3, 9, 5, 16, \n",
    "                        1, \n",
    "                        13, 4, 12,\n",
    "                        2, 7, 10,\n",
    "                        11, 6, 17,\n",
    "                        8, 14, 15]\n",
    "data_order = np.array([12, 3, 11, 0, 2, 8, 4, 15, 17, 7, 13, 14, 10, 16, 5, 9, 6, 1])+1\n",
    "man_order = np.array(manual_network_order)\n",
    "#man_order = np.array(data_order)"
   ]
  },
  {
   "cell_type": "code",
   "execution_count": 36,
   "metadata": {},
   "outputs": [],
   "source": [
    "bootstrap_order = results_array[:, :, 1, 0].astype(int) - 1"
   ]
  },
  {
   "cell_type": "markdown",
   "metadata": {},
   "source": [
    "## Individual networks"
   ]
  },
  {
   "cell_type": "code",
   "execution_count": 29,
   "metadata": {},
   "outputs": [],
   "source": [
    "precision = np.zeros(shape=(100, 18))\n",
    "specificity = np.zeros(shape=(100, 18))\n",
    "sensitivity = np.zeros(shape=(100, 18))\n",
    "\n",
    "thr = 0.05\n",
    "\n",
    "for iteration in range(100):\n",
    "    for net in range(18):\n",
    "        test = results_array[iteration, ..., net]\n",
    "        \n",
    "        labels = (pheno.iloc[(test[:, 1]-1).astype(int)].DX_GROUP=='Autism').values.astype(int)\n",
    "        prediction_region = (test[:, 2] > thr) & (test[:, 3] <= thr)\n",
    "\n",
    "        p = sum(labels==1)\n",
    "        n = sum(labels==0)\n",
    "        tp = sum(labels[prediction_region]==1)\n",
    "        fp = sum(labels[prediction_region]==0)\n",
    "        tn = sum(labels[~prediction_region]==0)\n",
    "        fn = sum(labels[~prediction_region]==1)\n",
    "        # Compute stuff\n",
    "        sens = tp / p\n",
    "        spec = tn / n\n",
    "        ppv = tp / (tp+fp)\n",
    "        npv = tn / (tn + fn)\n",
    "        fpr = fp / n\n",
    "        fdr = fp / (fp + tp)\n",
    "        \n",
    "        precision[iteration, net] = ppv\n",
    "        specificity[iteration, net] = spec\n",
    "        sensitivity[iteration, net] = sens"
   ]
  },
  {
   "cell_type": "code",
   "execution_count": 38,
   "metadata": {},
   "outputs": [],
   "source": [
    "table = pd.DataFrame([(p, spec, sens, n)  \n",
    "                      for net in range(18) for p, spec, sens, n in \n",
    "                      [(precision[i, net], \n",
    "                        specificity[i, net],\n",
    "                        sensitivity[i, net],\n",
    "                        network_labels.iloc[net]['label']) for i in range(100)]],\n",
    "                     columns=('precision', 'specificity', 'sensitivity', 'network'))\n",
    "\n",
    "\n",
    "manual_partition = [0, \n",
    "                    1, 1, 1, 1, \n",
    "                    2, \n",
    "                    3, 3, 3, \n",
    "                    4, 4, 4,\n",
    "                    5, 5, 5,\n",
    "                    6, 6, 6]\n",
    "network_names_ordered = [network_labels.loc[o]['label'] for o in man_order-1 ]\n",
    "group_mapping = {n: f'group_{p+1}' for n, p in zip(network_names_ordered, \n",
    "                                 manual_partition)}\n",
    "\n",
    "table['group'] = [group_mapping[row['network']] for rid, row in table.iterrows()]\n",
    "\n",
    "# Get me the table index ordered like the networks\n",
    "\n",
    "table_order = [i for n in network_names_ordered for i in table.query(f'network==\"{n}\"').index]\n",
    "\n",
    "table['group'] = [group_mapping[row['network']] for rid, row in table.iterrows()]"
   ]
  },
  {
   "cell_type": "markdown",
   "metadata": {},
   "source": [
    "## Combined networks"
   ]
  },
  {
   "cell_type": "code",
   "execution_count": 51,
   "metadata": {},
   "outputs": [],
   "source": [
    "handles=precision_combined = np.zeros(shape=(100, 7))\n",
    "specificity_combined = np.zeros(shape=(100, 7))\n",
    "sensitivity_combined = np.zeros(shape=(100, 7))\n",
    "\n",
    "thr = 0.2\n",
    "\n",
    "for net in range(7):\n",
    "    p1 = pd.read_csv(comb_net_p1_p.format(net+1), sep='\\t')\n",
    "    p0 = pd.read_csv(comb_net_p0_p.format(net+1), sep='\\t')\n",
    "    for iteration in range(100):\n",
    "        # Get the right bootstrap order\n",
    "        bo = bootstrap_order[iteration, :]\n",
    "        labels = (pheno.iloc[bo].DX_GROUP=='Autism').values.astype(int)\n",
    "        prediction_region = (p1.values[:, iteration] > thr) & (p0.values[:, iteration] <= thr)\n",
    "\n",
    "        p = sum(labels==1)\n",
    "        n = sum(labels==0)\n",
    "        tp = sum(labels[prediction_region]==1)\n",
    "        fp = sum(labels[prediction_region]==0)\n",
    "        tn = sum(labels[~prediction_region]==0)\n",
    "        fn = sum(labels[~prediction_region]==1)\n",
    "        # Compute stuff\n",
    "        sens = tp / p\n",
    "        spec = tn / n\n",
    "        ppv = tp / (tp+fp)\n",
    "        npv = tn / (tn + fn)\n",
    "        fpr = fp / n\n",
    "        fdr = fp / (fp + tp)\n",
    "\n",
    "        precision_combined[iteration, net] = ppv\n",
    "        specificity_combined[iteration, net] = spec\n",
    "        sensitivity_combined[iteration, net] = sens"
   ]
  },
  {
   "cell_type": "code",
   "execution_count": 52,
   "metadata": {},
   "outputs": [],
   "source": [
    "table_combined = pd.DataFrame([(p, spec, sens, n)  \n",
    "                      for net in range(7) for p, spec, sens, n in \n",
    "                      [(precision_combined[i, net], \n",
    "                        specificity_combined[i, net],\n",
    "                        sensitivity_combined[i, net],\n",
    "                        f'group_{net+1}') for i in range(100)]],\n",
    "                     columns=('precision', 'specificity', 'sensitivity', 'network'))"
   ]
  },
  {
   "cell_type": "markdown",
   "metadata": {},
   "source": [
    "## Split networks\n",
    "The two big network groups"
   ]
  },
  {
   "cell_type": "code",
   "execution_count": 55,
   "metadata": {},
   "outputs": [],
   "source": [
    "handles=precision_split = np.zeros(shape=(100, 7))\n",
    "specificity_split = np.zeros(shape=(100, 7))\n",
    "sensitivity_split = np.zeros(shape=(100, 7))\n",
    "\n",
    "thr = 0.2\n",
    "\n",
    "for net in range(2):\n",
    "    p1 = pd.read_csv(split_net_p1_p.format(net+1), sep='\\t')\n",
    "    p0 = pd.read_csv(split_net_p0_p.format(net+1), sep='\\t')\n",
    "    for iteration in range(100):\n",
    "        # Get the right bootstrap order\n",
    "        bo = bootstrap_order[iteration, :]\n",
    "        labels = (pheno.iloc[bo].DX_GROUP=='Autism').values.astype(int)\n",
    "        prediction_region = (p1.values[:, iteration] > thr) & (p0.values[:, iteration] <= thr)\n",
    "\n",
    "        p = sum(labels==1)\n",
    "        n = sum(labels==0)\n",
    "        tp = sum(labels[prediction_region]==1)\n",
    "        fp = sum(labels[prediction_region]==0)\n",
    "        tn = sum(labels[~prediction_region]==0)\n",
    "        fn = sum(labels[~prediction_region]==1)\n",
    "        # Compute stuff\n",
    "        try:\n",
    "            sens = tp / p\n",
    "            spec = tn / n\n",
    "            ppv = tp / (tp+fp)\n",
    "            npv = tn / (tn + fn)\n",
    "            fpr = fp / n\n",
    "            fdr = fp / (fp + tp)\n",
    "        except ZeroDivisionError:\n",
    "            replace = 0\n",
    "            sens = replace\n",
    "            spec = replace\n",
    "            ppv = replace\n",
    "            npv = replace\n",
    "            fpr = replace\n",
    "            fdr = replace\n",
    "\n",
    "        precision_split[iteration, net] = ppv\n",
    "        specificity_split[iteration, net] = spec\n",
    "        sensitivity_split[iteration, net] = sens"
   ]
  },
  {
   "cell_type": "code",
   "execution_count": 56,
   "metadata": {},
   "outputs": [],
   "source": [
    "table_split = pd.DataFrame([(p, spec, sens, n)  \n",
    "                      for net in range(2) for p, spec, sens, n in \n",
    "                      [(precision_split[i, net], \n",
    "                        specificity_split[i, net],\n",
    "                        sensitivity_split[i, net],\n",
    "                        f'group_{net+1}') for i in range(100)]],\n",
    "                     columns=('precision', 'specificity', 'sensitivity', 'network'))"
   ]
  },
  {
   "cell_type": "code",
   "execution_count": 57,
   "metadata": {},
   "outputs": [],
   "source": [
    "# Make a correlation matrix of the asd probabilities for each instance\n",
    "corr_mat = np.stack([np.corrcoef(results_array[instance, :, 2, :].T) for instance in range(100)], -1)"
   ]
  },
  {
   "cell_type": "code",
   "execution_count": 17,
   "metadata": {},
   "outputs": [],
   "source": [
    "avg_weight_corr = np.average(corr_mat, 2)"
   ]
  },
  {
   "cell_type": "code",
   "execution_count": 18,
   "metadata": {},
   "outputs": [],
   "source": [
    "#sim = np.corrcoef(data_stack)\n",
    "sim = np.average(corr_mat, 2)\n",
    "dist = 1 - sim[np.triu(np.ones(shape=sim.shape), 1).astype(bool)]\n",
    "link = scl.hierarchy.linkage(dist, method='average', optimal_ordering=True)\n",
    "order = scl.hierarchy.dendrogram(link, no_plot=True)['leaves']"
   ]
  },
  {
   "cell_type": "code",
   "execution_count": 19,
   "metadata": {},
   "outputs": [],
   "source": [
    "def get_patches(mat, part, c='black'):\n",
    "    tab = pd.DataFrame(data=part, columns=('part',))\n",
    "    val, ind_start, ind_stop = zip(*[(u, \n",
    "                                      tab.query(f'part=={u}').first_valid_index(),\n",
    "                                      tab.query(f'part=={u}').last_valid_index()) for u in tab.part.unique()])\n",
    "    patch_list = list()\n",
    "    for ii in range(0,len(ind_start)):\n",
    "        p = mpl.patches.Rectangle((ind_start[ii]-0.5,)*2,\n",
    "                                  ind_stop[ii]-ind_start[ii]+1,\n",
    "                                  ind_stop[ii]-ind_start[ii]+1,\n",
    "                                                 angle=0, \n",
    "                                                 edgecolor=c,\n",
    "                                                 facecolor='none' ,\n",
    "                                                 linewidth=4)\n",
    "        patch_list.append(p)\n",
    "    return patch_list"
   ]
  },
  {
   "cell_type": "code",
   "execution_count": 20,
   "metadata": {},
   "outputs": [],
   "source": [
    "def get_better_patches(mat, part, c):\n",
    "    tab = pd.DataFrame(data=part, columns=('part',))\n",
    "    val, ind_start, ind_stop = zip(*[(u, \n",
    "                                      tab.query(f'part=={u}').first_valid_index(),\n",
    "                                      tab.query(f'part=={u}').last_valid_index()) for u in tab.part.unique()])\n",
    "    patch_list = list()\n",
    "    print(list(zip(val, c)))\n",
    "    for ii in range(0,len(ind_start)):\n",
    "        if val[ii]==0:\n",
    "            continue\n",
    "        p = mpl.patches.Rectangle((ind_start[ii]-0.5,)*2,\n",
    "                                  ind_stop[ii]-ind_start[ii]+1,\n",
    "                                  ind_stop[ii]-ind_start[ii]+1,\n",
    "                                                 angle=0, \n",
    "                                                 #edgecolor=sbn.xkcd_rgb[c[ii]],\n",
    "                                                 edgecolor=c[ii],\n",
    "                                                 facecolor='none' ,\n",
    "                                                 linewidth=2)\n",
    "        patch_list.append(p)\n",
    "    return patch_list"
   ]
  },
  {
   "cell_type": "code",
   "execution_count": 21,
   "metadata": {},
   "outputs": [],
   "source": [
    "colors = [sbn.xkcd_rgb[col] for col in \n",
    "         ['amber', 'heather', 'lemon', 'dark sky blue', 'pale rose', 'easter green', 'khaki']]"
   ]
  },
  {
   "cell_type": "code",
   "execution_count": 22,
   "metadata": {},
   "outputs": [],
   "source": [
    "order = np.array([18,  3,  9,  5, 16,  1, 13,  4, 12,  2,  7, 10, 11,  6, 17,  8, 14,\n",
    "       15])-1"
   ]
  },
  {
   "cell_type": "code",
   "execution_count": 23,
   "metadata": {},
   "outputs": [],
   "source": [
    "# Manual partition\n",
    "part_dict = {1: [18],\n",
    "             2: [3, 9, 5, 16],\n",
    "             3: [1],\n",
    "             4: [13, 4, 12],\n",
    "             5: [2, 7, 10],\n",
    "             6: [11, 6, 17],\n",
    "             7: [8, 14, 15]\n",
    "            }\n",
    "manual_part = np.array([p for i in order  for p, v in part_dict.items() if i+1 in v])"
   ]
  },
  {
   "cell_type": "markdown",
   "metadata": {},
   "source": [
    "## Describe the networks"
   ]
  },
  {
   "cell_type": "code",
   "execution_count": 25,
   "metadata": {},
   "outputs": [],
   "source": [
    "def get_extreme(table, var):\n",
    "    max_net = table.groupby('network')[var].describe()['50%'].idxmax()\n",
    "    print(var, ' max: ', max_net, table.query('network==@max_net')[var].median())\n",
    "    min_net = table.groupby('network')[var].describe()['50%'].idxmin()\n",
    "    print(var, ' min: ', min_net, table.query('network==@min_net')[var].median())"
   ]
  },
  {
   "cell_type": "code",
   "execution_count": 27,
   "metadata": {},
   "outputs": [
    {
     "name": "stdout",
     "output_type": "stream",
     "text": [
      "precision  max:  FPTCnet 0.6666666666666666\n",
      "precision  min:  ORBcor_NACC 0.5611895592640137\n",
      "sensitivity  max:  MOTnet_d 0.1794193740412574\n",
      "sensitivity  min:  ORBcor_NACC 0.12200847360586281\n",
      "specificity  max:  FPTCnet 0.9168586789554531\n",
      "specificity  min:  MOTnet_d 0.9022504400301735\n"
     ]
    }
   ],
   "source": [
    "get_extreme(table, 'precision')\n",
    "get_extreme(table, 'sensitivity')\n",
    "get_extreme(table, 'specificity')"
   ]
  },
  {
   "cell_type": "code",
   "execution_count": 28,
   "metadata": {},
   "outputs": [
    {
     "name": "stdout",
     "output_type": "stream",
     "text": [
      "\n",
      "precision: group_1: 61.4% vs individual: 63.8%\n",
      "specificity: group_1: 96.4% vs individual: 90.4%\n",
      "sensitivity: group_1: 6.0% vs individual: 15.1%\n",
      "\n",
      "precision: group_2: 69.7% vs individual: 61.1%\n",
      "specificity: group_2: 96.8% vs individual: 90.8%\n",
      "sensitivity: group_2: 7.7% vs individual: 14.6%\n",
      "\n",
      "precision: group_3: 60.6% vs individual: 63.9%\n",
      "specificity: group_3: 82.5% vs individual: 90.7%\n",
      "sensitivity: group_3: 26.6% vs individual: 15.7%\n",
      "\n",
      "precision: group_4: 69.2% vs individual: 64.8%\n",
      "specificity: group_4: 92.3% vs individual: 91.0%\n",
      "sensitivity: group_4: 15.9% vs individual: 16.1%\n",
      "\n",
      "precision: group_5: 64.8% vs individual: 63.7%\n",
      "specificity: group_5: 89.8% vs individual: 90.7%\n",
      "sensitivity: group_5: 19.5% vs individual: 16.5%\n",
      "\n",
      "precision: group_6: 59.0% vs individual: 65.3%\n",
      "specificity: group_6: 86.6% vs individual: 91.3%\n",
      "sensitivity: group_6: 18.9% vs individual: 15.8%\n",
      "\n",
      "precision: group_7: 63.4% vs individual: 61.9%\n",
      "specificity: group_7: 87.7% vs individual: 90.8%\n",
      "sensitivity: group_7: 21.9% vs individual: 15.0%\n"
     ]
    }
   ],
   "source": [
    "# Show me the group level\n",
    "for group in part_dict.keys():\n",
    "    print()\n",
    "    for val in ['precision', 'specificity', 'sensitivity']:\n",
    "        group_val = table_combined.query(f'network == \"group_{group}\"')[[val]].describe().T['50%'].values[0]\n",
    "        net_val = table.query(f'group == \"group_{group}\"')[[val, 'network']].groupby('network').median().mean().values[0]\n",
    "        print(f'{val}: group_{group}: {group_val*100:.1f}% vs individual: {net_val*100:.1f}%')"
   ]
  },
  {
   "cell_type": "code",
   "execution_count": 29,
   "metadata": {},
   "outputs": [],
   "source": [
    "# ens_colors = ['#FE9D08', '#1258A6'] # Orange, Blue"
   ]
  },
  {
   "cell_type": "code",
   "execution_count": 30,
   "metadata": {},
   "outputs": [
    {
     "name": "stdout",
     "output_type": "stream",
     "text": [
      "ensemble 1\n",
      "precision: ens1: 88.7% vs individual: 62.9%\n",
      "specificity: ens1: 99.5% vs individual: 90.8%\n",
      "sensitivity: ens1: 4.9% vs individual: 15.3%\n",
      "ensemble 2\n",
      "precision: ens2: 72.0% vs individual: 64.6%\n",
      "specificity: ens2: 97.1% vs individual: 91.0%\n",
      "sensitivity: ens2: 7.4% vs individual: 16.1%\n"
     ]
    }
   ],
   "source": [
    "# Show me the ensemble\n",
    "print('ensemble 1')\n",
    "for val in ['precision', 'specificity', 'sensitivity']:\n",
    "    group_val = table_split.query(f'network == \"group_1\"')[[val]].describe().T['50%'].values[0]\n",
    "    net_val = table.query(f'group in [\"group_1\", \"group_2\", \"group_3\", \"group_4\"]')[[val, 'network']].groupby('network').median().mean().values[0]\n",
    "    print(f'{val}: ens1: {group_val*100:.1f}% vs individual: {net_val*100:.1f}%')\n",
    "    \n",
    "# Show me the ensemble\n",
    "print('ensemble 2')\n",
    "for val in ['precision', 'specificity', 'sensitivity']:\n",
    "    group_val = table_split.query(f'network == \"group_2\"')[[val]].describe().T['50%'].values[0]\n",
    "    net_val = table.query(f'group in [\"group_4\", \"group_5\", \"group_6\"]')[[val, 'network']].groupby('network').median().mean().values[0]\n",
    "    print(f'{val}: ens2: {group_val*100:.1f}% vs individual: {net_val*100:.1f}%')"
   ]
  },
  {
   "cell_type": "markdown",
   "metadata": {},
   "source": [
    "## Horizontal individual"
   ]
  },
  {
   "cell_type": "code",
   "execution_count": 26,
   "metadata": {},
   "outputs": [],
   "source": [
    "# Manual partition\n",
    "part_dict = {1: [18],\n",
    "             2: [3, 9, 5, 16],\n",
    "             3: [1],\n",
    "             4: [13, 4, 12],\n",
    "             5: [2, 7, 10],\n",
    "             6: [11, 6, 17],\n",
    "             7: [8, 14, 15]\n",
    "            }\n",
    "manual_part = np.array([p for i in order  for p, v in part_dict.items() if i+1 in v])\n",
    "order = np.array([18,  3,  9,  5, 16,  1, 13,  4, 12,  2,  7, 10, 11,  6, 17,  8, 14,\n",
    "       15])-1"
   ]
  },
  {
   "cell_type": "code",
   "execution_count": 27,
   "metadata": {},
   "outputs": [],
   "source": [
    "# Ensemble colors\n",
    "ens_colors = ['#FE9D08', '#1258A6'] # Orange, Blue\n",
    "group_7_colors = ['#FFB647', # Light Orange\n",
    "                  '#FE2908', # Bright Red\n",
    "                  '#BF7400', # Burnt Orange\n",
    "                  '#FED908', # Bright Yellow\n",
    "                  '#52DD07', # Green\n",
    "                  '#1258A6', # Blue (same color as above)\n",
    "                  '#5E12AC'] # Purple\n",
    "group_18_colors = ['#FFB647', # Light Orange\n",
    "                   '#FF907E', '#FF6047', '#BF1A00', '#881200', # 2nd group, shades of red\n",
    "                  '#BF7400', # Burnt Orange\n",
    "                  '#FFEC7E', '#FFE347', '#BFA200', # 4th group, shades of yellow\n",
    "                  '#9EEB75', '#77E13E', '#3AA600', # 6th group (prot), shades of green\n",
    "                   '#6C98CA', '#3B72B0', '#09407D', # 5th group (prot), shades of blue\n",
    "                  '#9D6ECD', '#783CB5', '#440981'] # 7th group (prot), shades of purple"
   ]
  },
  {
   "cell_type": "markdown",
   "metadata": {},
   "source": [
    "## Matrices"
   ]
  },
  {
   "cell_type": "code",
   "execution_count": 30,
   "metadata": {},
   "outputs": [
    {
     "name": "stdout",
     "output_type": "stream",
     "text": [
      "[(1, '#FFB647'), (2, '#FF907E'), (3, '#FF6047'), (4, '#BF1A00'), (5, '#881200'), (6, '#BF7400'), (7, '#FFEC7E'), (8, '#FFE347'), (9, '#BFA200'), (10, '#9EEB75'), (11, '#77E13E'), (12, '#3AA600'), (13, '#6C98CA'), (14, '#3B72B0'), (15, '#09407D'), (16, '#9D6ECD'), (17, '#783CB5'), (18, '#440981')]\n"
     ]
    },
    {
     "data": {
      "image/png": "[encoded data removed]",
      "text/plain": [
       "<Figure size 297.638x226.772 with 1 Axes>"
      ]
     },
     "metadata": {
      "needs_background": "light"
     },
     "output_type": "display_data"
    }
   ],
   "source": [
    "# Matrix 1 (all networks and annotations)\n",
    "patches = get_better_patches(avg_weight_corr, np.arange(1,19), c=group_18_colors)\n",
    "\n",
    "ylow = 0\n",
    "yhigh = 1\n",
    "\n",
    "dpi=300\n",
    "scale_factor = 1\n",
    "height = 80 * scale_factor\n",
    "width = 105* scale_factor\n",
    "\n",
    "f = plt.figure(figsize=(mm2in(width),mm2in(height)), constrained_layout=True)\n",
    "\n",
    "ax_dist = f.add_subplot(111)\n",
    "g = ax_dist.matshow(avg_weight_corr[order, :][:, order], cmap=plt.cm.Greys, vmin=ylow, vmax=yhigh, aspect='auto')\n",
    "\n",
    "ax_dist.set_xticklabels([])\n",
    "ax_dist.set_yticklabels([])\n",
    "for patch in patches:\n",
    "    ax_dist.add_patch(patch)\n",
    "    \n",
    "ax_dist.set_yticks(range(18))\n",
    "ax_dist.yaxis.set_ticks_position('both')\n",
    "ax_dist.xaxis.set_ticks_position('none')\n",
    "ax_dist.set_yticklabels(network_labels.loc[order]['label'].values, fontsize=10);\n",
    "f.savefig(fig_p / 'corr_network.png', bbox_inches='tight', dpi=dpi, transparent=True, pad_inches=0)\n",
    "f.savefig(fig_p / 'corr_network.pdf', bbox_inches='tight', dpi=dpi, transparent=True, pad_inches=0)"
   ]
  },
  {
   "cell_type": "code",
   "execution_count": 31,
   "metadata": {},
   "outputs": [
    {
     "name": "stdout",
     "output_type": "stream",
     "text": [
      "[(1, '#FFB647'), (2, '#FF907E'), (3, '#FF6047'), (4, '#BF1A00'), (5, '#881200'), (6, '#BF7400'), (7, '#FFEC7E'), (8, '#FFE347'), (9, '#BFA200'), (10, '#9EEB75'), (11, '#77E13E'), (12, '#3AA600'), (13, '#6C98CA'), (14, '#3B72B0'), (15, '#09407D'), (16, '#9D6ECD'), (17, '#783CB5'), (18, '#440981')]\n"
     ]
    },
    {
     "data": {
      "image/png": "[encoded data removed]",
      "text/plain": [
       "<Figure size 113.386x127.559 with 1 Axes>"
      ]
     },
     "metadata": {
      "needs_background": "light"
     },
     "output_type": "display_data"
    }
   ],
   "source": [
    "# Matrix 1 (all networks and annotations)\n",
    "patches = get_better_patches(avg_weight_corr, np.arange(1,19), c=group_18_colors)\n",
    "\n",
    "ylow = 0\n",
    "yhigh = 1\n",
    "\n",
    "dpi=300\n",
    "scale_factor = 1\n",
    "height = 45 * scale_factor\n",
    "width = 40 * scale_factor\n",
    "\n",
    "f = plt.figure(figsize=(mm2in(width),mm2in(height)), constrained_layout=True)\n",
    "\n",
    "ax_dist = f.add_subplot(111)\n",
    "g = ax_dist.matshow(avg_weight_corr[order, :][:, order], cmap=plt.cm.Greys, vmin=ylow, vmax=yhigh, aspect='auto')\n",
    "\n",
    "ax_dist.set_xticklabels([])\n",
    "ax_dist.set_yticklabels([])\n",
    "for patch in patches:\n",
    "    ax_dist.add_patch(patch)\n",
    "    \n",
    "ax_dist.set_yticks(range(18))\n",
    "ax_dist.yaxis.set_ticks_position('both')\n",
    "ax_dist.xaxis.set_ticks_position('none')\n",
    "\n",
    "f.savefig(fig_p / 'corr_network.png', bbox_inches='tight', dpi=dpi, transparent=True, pad_inches=0)\n",
    "f.savefig(fig_p / 'corr_network.pdf', bbox_inches='tight', dpi=dpi, transparent=True, pad_inches=0)"
   ]
  },
  {
   "cell_type": "code",
   "execution_count": 32,
   "metadata": {},
   "outputs": [
    {
     "name": "stdout",
     "output_type": "stream",
     "text": [
      "[(1, '#FFB647'), (2, '#FE2908'), (3, '#BF7400'), (4, '#FED908'), (5, '#52DD07'), (6, '#1258A6'), (7, '#5E12AC')]\n"
     ]
    },
    {
     "data": {
      "image/png": "[encoded data removed]",
      "text/plain": [
       "<Figure size 113.386x127.559 with 1 Axes>"
      ]
     },
     "metadata": {
      "needs_background": "light"
     },
     "output_type": "display_data"
    }
   ],
   "source": [
    "# Matrix 2 (Group 7, no annotations)\n",
    "patches = get_better_patches(avg_weight_corr, manual_part, c=group_7_colors)\n",
    "\n",
    "ylow = 0\n",
    "yhigh = 1\n",
    "\n",
    "dpi=300\n",
    "scale_factor = 1\n",
    "height = 45 * scale_factor\n",
    "width = 40 * scale_factor\n",
    "\n",
    "f = plt.figure(figsize=(mm2in(width),mm2in(height)), constrained_layout=True)\n",
    "\n",
    "ax_dist = f.add_subplot(111)\n",
    "g = ax_dist.matshow(avg_weight_corr[order, :][:, order], cmap=plt.cm.Greys, vmin=ylow, vmax=yhigh, aspect='auto')\n",
    "\n",
    "ax_dist.set_xticklabels([])\n",
    "ax_dist.set_yticklabels([])\n",
    "for patch in patches:\n",
    "    ax_dist.add_patch(patch)\n",
    "    \n",
    "ax_dist.set_yticks(range(18))\n",
    "ax_dist.yaxis.set_ticks_position('both')\n",
    "ax_dist.xaxis.set_ticks_position('none')\n",
    "ax_dist.set_yticklabels('');\n",
    "f.savefig(fig_p / 'corr_group.png', bbox_inches='tight', dpi=dpi, transparent=True, pad_inches=0)\n",
    "f.savefig(fig_p / 'corr_group.pdf', bbox_inches='tight', dpi=dpi, transparent=True, pad_inches=0)"
   ]
  },
  {
   "cell_type": "code",
   "execution_count": 33,
   "metadata": {},
   "outputs": [
    {
     "name": "stdout",
     "output_type": "stream",
     "text": [
      "[(1.0, '#FE9D08'), (2.0, '#1258A6')]\n"
     ]
    },
    {
     "name": "stderr",
     "output_type": "stream",
     "text": [
      "/home/surchs/Packages/conda/envs/abide/lib/python3.7/site-packages/matplotlib/figure.py:2317: UserWarning: Calling figure.constrained_layout, but figure not setup to do constrained layout.  You either called GridSpec without the fig keyword, you are using plt.subplot, or you need to call figure or subplots with the constrained_layout=True kwarg.\n",
      "  warnings.warn(\"Calling figure.constrained_layout, but figure not \"\n"
     ]
    },
    {
     "data": {
      "image/png": "[encoded data removed]",
      "text/plain": [
       "<Figure size 226.772x226.772 with 2 Axes>"
      ]
     },
     "metadata": {
      "needs_background": "light"
     },
     "output_type": "display_data"
    }
   ],
   "source": [
    "# Matrix 3 (Ensemble 2, no annotations)\n",
    "patches = get_better_patches(avg_weight_corr, list(np.ones(9)) + list(np.ones(9)*2), c=ens_colors)\n",
    "\n",
    "ylow = 0\n",
    "yhigh = 1\n",
    "\n",
    "dpi=300\n",
    "scale_factor = 1\n",
    "height = 80 * scale_factor\n",
    "width = 80 * scale_factor\n",
    "\n",
    "f = plt.figure(figsize=(mm2in(width),mm2in(height)), constrained_layout=True)\n",
    "#gs = gridspec.GridSpec(ncols=1, nrows=10, right=0.9)\n",
    "gs = gridspec.GridSpec(ncols=1, nrows=10)\n",
    "\n",
    "ax_dist = f.add_subplot(gs[:, :])\n",
    "cbaxes = f.add_axes([0.95, 0.2, 0.02, 0.3]) \n",
    "\n",
    "#f = plt.figure(figsize=(mm2in(width),mm2in(height)), constrained_layout=True)\n",
    "g = ax_dist.matshow(avg_weight_corr[order, :][:, order], cmap=plt.cm.Greys, vmin=ylow, vmax=yhigh, aspect='auto')\n",
    "\n",
    "for patch in patches:\n",
    "    ax_dist.add_patch(patch)\n",
    "    \n",
    "ax_dist.set_yticks(range(18))\n",
    "ax_dist.yaxis.set_ticks_position('both')\n",
    "ax_dist.xaxis.set_ticks_position('none')\n",
    "ax_dist.set_yticklabels('');\n",
    "\n",
    "cbar = f.colorbar(g, cax=cbaxes)\n",
    "cbaxes.set_ylabel('Pearson R')\n",
    "ax_dist.set_xticklabels([])\n",
    "ax_dist.set_yticklabels([])\n",
    "\n",
    "f.savefig(fig_p / 'corr_ensemble.png', bbox_inches='tight', dpi=dpi, transparent=True, pad_inches=0)\n",
    "f.savefig(fig_p / 'corr_ensemble.pdf', bbox_inches='tight', dpi=dpi, transparent=True, pad_inches=0)"
   ]
  },
  {
   "cell_type": "code",
   "execution_count": 34,
   "metadata": {},
   "outputs": [
    {
     "data": {
      "image/png": "[encoded data removed]",
      "text/plain": [
       "<Figure size 5.66929x113.386 with 2 Axes>"
      ]
     },
     "metadata": {
      "needs_background": "light"
     },
     "output_type": "display_data"
    }
   ],
   "source": [
    "dpi=300\n",
    "scale_factor = 1\n",
    "height = 40 * scale_factor\n",
    "width = 2 * scale_factor\n",
    "\n",
    "a = np.array([[0,1]])\n",
    "plt.figure(figsize=(mm2in(width),mm2in(height)))\n",
    "img = plt.imshow(a, cmap=\"Greys\")\n",
    "plt.gca().set_visible(False)\n",
    "cax = plt.axes([0.1, 0.2, 0.8, 0.6])\n",
    "plt.colorbar(cax=cax)\n",
    "cax.set_ylabel('Pearson R', fontsize=10)\n",
    "cax.set_axis_on()\n",
    "plt.savefig(fig_p / \"colorbar.pdf\", bbox_inches='tight', dpi=dpi, transparent=True, pad_inches=0)"
   ]
  },
  {
   "cell_type": "code",
   "execution_count": 35,
   "metadata": {},
   "outputs": [
    {
     "name": "stdout",
     "output_type": "stream",
     "text": [
      "[(1.0, '#FE9D08'), (2.0, '#1258A6')]\n"
     ]
    },
    {
     "data": {
      "image/png": "[encoded data removed]",
      "text/plain": [
       "<Figure size 113.386x127.559 with 1 Axes>"
      ]
     },
     "metadata": {
      "needs_background": "light"
     },
     "output_type": "display_data"
    }
   ],
   "source": [
    "# Matrix 3 (Ensemble 2, no annotations)\n",
    "patches = get_better_patches(avg_weight_corr, list(np.ones(9)) + list(np.ones(9)*2), c=ens_colors)\n",
    "\n",
    "ylow = 0\n",
    "yhigh = 1\n",
    "\n",
    "dpi=300\n",
    "scale_factor = 1\n",
    "height = 45 * scale_factor\n",
    "width = 40 * scale_factor\n",
    "\n",
    "f = plt.figure(figsize=(mm2in(width),mm2in(height)), constrained_layout=True)\n",
    "\n",
    "ax_dist = f.add_subplot(111)\n",
    "g = ax_dist.matshow(avg_weight_corr[order, :][:, order], cmap=plt.cm.Greys, vmin=ylow, vmax=yhigh, aspect='auto')\n",
    "for patch in patches:\n",
    "    ax_dist.add_patch(patch)\n",
    "    \n",
    "ax_dist.set_yticks(range(18))\n",
    "ax_dist.yaxis.set_ticks_position('both')\n",
    "ax_dist.xaxis.set_ticks_position('none')\n",
    "ax_dist.set_yticklabels('');\n",
    "\n",
    "ax_dist.set_xticklabels([])\n",
    "ax_dist.set_yticklabels([])\n",
    "\n",
    "f.savefig(fig_p / 'corr_ensemble.png', bbox_inches='tight', dpi=dpi, transparent=True, pad_inches=0)\n",
    "f.savefig(fig_p / 'corr_ensemble.pdf', bbox_inches='tight', dpi=dpi, transparent=True, pad_inches=0)"
   ]
  },
  {
   "cell_type": "markdown",
   "metadata": {},
   "source": [
    "## Violin Plots"
   ]
  },
  {
   "cell_type": "code",
   "execution_count": 29,
   "metadata": {},
   "outputs": [
    {
     "data": {
      "image/png": "[encoded data removed]",
      "text/plain": [
       "<Figure size 127.559x283.465 with 1 Axes>"
      ]
     },
     "metadata": {
      "needs_background": "light"
     },
     "output_type": "display_data"
    }
   ],
   "source": [
    "# Violin Plot 1 (all networks, with annotations)\n",
    "\n",
    "# Network precision\n",
    "xlow = -0.1\n",
    "xhigh = 1.1\n",
    "x_value = 'precision'\n",
    "lw = 1\n",
    "\n",
    "fs_xtick = 12\n",
    "fs_ytick = 18\n",
    "fs_label = 22\n",
    "\n",
    "dpi=300\n",
    "scale_factor = 1\n",
    "height = 100 * scale_factor\n",
    "width = 45 * scale_factor\n",
    "\n",
    "f = plt.figure(figsize=(mm2in(width),mm2in(height)), constrained_layout=True)\n",
    "gs = gridspec.GridSpec(ncols=1, nrows=18, hspace=0)\n",
    "\n",
    "ax_individual = f.add_subplot(gs[:, 0])\n",
    "\n",
    "sbn.set_palette(group_18_colors)\n",
    "#sbn.violinplot(x=x_value, y='network', data=table.iloc[table_order], hue='group', ax=ax_individual, dodge=False, linewidth=lw)\n",
    "sbn.violinplot(x=x_value, y='network', data=table.iloc[table_order], hue='network', ax=ax_individual, dodge=False, linewidth=lw)\n",
    "\n",
    "ylim = ax_individual.get_ylim()\n",
    "ax_individual.vlines(0.5, *ylim, linewidth=lw, color='grey', zorder=0)\n",
    "ax_individual.set_ylim(ylim)\n",
    "\n",
    "ax_individual.set_xlim([xlow, xhigh]);\n",
    "ax_individual.set_ylabel('')\n",
    "ax_individual.set_xlabel('')\n",
    "ax_individual.set_xlabel('PPV', labelpad=5, fontsize=10)\n",
    "\n",
    "ax_individual.tick_params(axis='x', which='major', labelsize=10)\n",
    "ax_individual.set_xticks((0, 0.5, 1))\n",
    "ax_individual.set_xticklabels((0, 0.5, 1))\n",
    "\n",
    "ax_individual.set_yticklabels(())\n",
    "ax_individual.legend_.remove()\n",
    "ax_individual.set_title('network models', fontsize=10);\n",
    "ax_individual.set_yticklabels(network_labels.loc[order]['easy'].values, fontsize=10);\n",
    "\n",
    "f.savefig(fig_p / 'violin_network_easy_names.png', bbox_inches='tight', dpi=dpi, transparent=True, pad_inches=0)\n",
    "f.savefig(fig_p / 'violin_network_easy_names.pdf', bbox_inches='tight', dpi=dpi, transparent=True, pad_inches=0)"
   ]
  },
  {
   "cell_type": "code",
   "execution_count": 36,
   "metadata": {},
   "outputs": [
    {
     "data": {
      "image/png": "[encoded data removed]",
      "text/plain": [
       "<Figure size 141.732x283.465 with 1 Axes>"
      ]
     },
     "metadata": {
      "needs_background": "light"
     },
     "output_type": "display_data"
    }
   ],
   "source": [
    "# Violin Plot 1 (all networks, with annotations)\n",
    "\n",
    "# Network precision\n",
    "xlow = -0.1\n",
    "xhigh = 1.1\n",
    "x_value = 'precision'\n",
    "lw = 1\n",
    "\n",
    "fs_xtick = 12\n",
    "fs_ytick = 18\n",
    "fs_label = 22\n",
    "\n",
    "dpi=300\n",
    "scale_factor = 1\n",
    "height = 100 * scale_factor\n",
    "width = 50 * scale_factor\n",
    "\n",
    "f = plt.figure(figsize=(mm2in(width),mm2in(height)), constrained_layout=True)\n",
    "gs = gridspec.GridSpec(ncols=1, nrows=18, hspace=0)\n",
    "\n",
    "ax_individual = f.add_subplot(gs[:, 0])\n",
    "\n",
    "sbn.set_palette(group_18_colors)\n",
    "#sbn.violinplot(x=x_value, y='network', data=table.iloc[table_order], hue='group', ax=ax_individual, dodge=False, linewidth=lw)\n",
    "sbn.violinplot(x=x_value, y='network', data=table.iloc[table_order], hue='network', ax=ax_individual, dodge=False, linewidth=lw)\n",
    "\n",
    "ylim = ax_individual.get_ylim()\n",
    "ax_individual.vlines(0.5, *ylim, linewidth=lw, color='grey', zorder=0)\n",
    "ax_individual.set_ylim(ylim)\n",
    "\n",
    "ax_individual.set_xlim([xlow, xhigh]);\n",
    "ax_individual.set_ylabel('')\n",
    "ax_individual.set_xlabel('')\n",
    "ax_individual.set_xlabel('PPV', labelpad=5, fontsize=10)\n",
    "\n",
    "ax_individual.tick_params(axis='x', which='major', labelsize=10)\n",
    "ax_individual.set_xticks((0, 0.5, 1))\n",
    "ax_individual.set_xticklabels((0, 0.5, 1))\n",
    "\n",
    "ax_individual.set_yticklabels(())\n",
    "ax_individual.legend_.remove()\n",
    "ax_individual.set_title('network models', fontsize=10);\n",
    "ax_individual.set_yticklabels(network_labels.loc[order]['label'].values, fontsize=10);\n",
    "\n",
    "f.savefig(fig_p / 'violin_network.png', bbox_inches='tight', dpi=dpi, transparent=True, pad_inches=0)\n",
    "f.savefig(fig_p / 'violin_network.pdf', bbox_inches='tight', dpi=dpi, transparent=True, pad_inches=0)"
   ]
  },
  {
   "cell_type": "code",
   "execution_count": 37,
   "metadata": {},
   "outputs": [
    {
     "data": {
      "image/png": "[encoded data removed]",
      "text/plain": [
       "<Figure size 127.559x283.465 with 7 Axes>"
      ]
     },
     "metadata": {
      "needs_background": "light"
     },
     "output_type": "display_data"
    }
   ],
   "source": [
    "# Violin 2 (group 7, no names)\n",
    "xlow = -0.1\n",
    "xhigh = 1.1\n",
    "x_value = 'precision'\n",
    "lw = 1\n",
    "\n",
    "fs_xtick = 12\n",
    "fs_ytick = 18\n",
    "fs_label = 22\n",
    "\n",
    "colors = group_7_colors\n",
    "\n",
    "dpi=300\n",
    "scale_factor = 1\n",
    "height = 100 * scale_factor\n",
    "width = 45 * scale_factor\n",
    "\n",
    "f = plt.figure(figsize=(mm2in(width),mm2in(height)), constrained_layout=True)\n",
    "gs = gridspec.GridSpec(ncols=1, nrows=18, hspace=0)\n",
    "\n",
    "ax_group1 = f.add_subplot(gs[0, 0])\n",
    "ax_group2 = f.add_subplot(gs[1:5, 0])\n",
    "ax_group3 = f.add_subplot(gs[5:6, 0])\n",
    "ax_group4 = f.add_subplot(gs[6:9, 0])\n",
    "ax_group5 = f.add_subplot(gs[9:12, 0])\n",
    "ax_group6 = f.add_subplot(gs[12:15, 0])\n",
    "ax_group7 = f.add_subplot(gs[15:18, 0])\n",
    "\n",
    "ax_group1.tick_params(axis='both', bottom=False, top=False, right=False, left=False, labelbottom=False, labelleft=False)\n",
    "ax_group2.tick_params(axis='both', bottom=False, top=False, right=False, left=False, labelbottom=False, labelleft=False)\n",
    "ax_group3.tick_params(axis='both', bottom=False, top=False, right=False, left=False, labelbottom=False, labelleft=False)\n",
    "ax_group4.tick_params(axis='both', bottom=False, top=False, right=False, left=False, labelbottom=False, labelleft=False)\n",
    "ax_group5.tick_params(axis='both', bottom=False, top=False, right=False, left=False, labelbottom=False, labelleft=False)\n",
    "ax_group6.tick_params(axis='both', bottom=False, top=False, right=False, left=False, labelbottom=False, labelleft=False)\n",
    "ax_group7.tick_params(axis='both', bottom=True, top=False, right=False, left=False, labelbottom=True, labelleft=False)\n",
    "\n",
    "sbn.violinplot(x=x_value, y='network', data=table_combined.query('network==\"group_1\"'), color=colors[0], ax=ax_group1, linewidth=lw);\n",
    "ax_group1.set_ylabel('')\n",
    "ax_group1.set_yticks([])\n",
    "\n",
    "ylim = ax_group1.get_ylim()\n",
    "ax_group1.vlines(0.5, *ylim, linewidth=lw, color='grey', zorder=0)\n",
    "ax_group1.set_ylim(ylim)\n",
    "\n",
    "ax_group1.set_xlabel('')\n",
    "ax_group1.set_xlim([xlow, xhigh]);\n",
    "ax_group1.set_title('combined models', fontsize=10);\n",
    "\n",
    "sbn.violinplot(x=x_value, y='network', data=table_combined.query('network==\"group_2\"'), color=colors[1], ax=ax_group2, linewidth=lw);\n",
    "ax_group2.set_xlabel('')\n",
    "ax_group2.vlines(0.5, *[-1.8, 1.8], linewidth=lw, color='grey', zorder=0)\n",
    "ax_group2.set_ylim([-1.8, 1.8])\n",
    "ax_group2.set_ylabel('')\n",
    "ax_group2.set_xlim([xlow, xhigh]);\n",
    "\n",
    "sbn.violinplot(x=x_value, y='network', data=table_combined.query('network==\"group_3\"'), color=colors[2], ax=ax_group3, linewidth=lw);\n",
    "ax_group3.set_xlabel('')\n",
    "ax_group3.set_ylabel('')\n",
    "\n",
    "ylim = ax_group3.get_ylim()\n",
    "ax_group3.vlines(0.5, *ylim, linewidth=lw, color='grey', zorder=0)\n",
    "ax_group3.set_ylim(ylim)\n",
    "\n",
    "ax_group3.set_xlim([xlow, xhigh]);\n",
    "\n",
    "sbn.violinplot(x=x_value, y='network', data=table_combined.query('network==\"group_4\"'), color=colors[3], ax=ax_group4, linewidth=lw);\n",
    "ax_group4.set_xlabel('')\n",
    "ax_group4.vlines(0.5, *[-1.5, 1.5], linewidth=lw, color='grey', zorder=0)\n",
    "ax_group4.set_ylim([-1.5, 1.5])\n",
    "ax_group4.set_ylabel('')\n",
    "ax_group4.set_xlim([xlow, xhigh]);\n",
    "\n",
    "sbn.violinplot(x=x_value, y='network', data=table_combined.query('network==\"group_5\"'), color=colors[4], ax=ax_group5, linewidth=lw);\n",
    "ax_group5.set_xlabel('')\n",
    "ax_group5.vlines(0.5, *[-1.5, 1.5], linewidth=lw, color='grey', zorder=0)\n",
    "ax_group5.set_ylim([-1.5, 1.5])\n",
    "ax_group5.set_ylabel('')\n",
    "ax_group5.set_xlim([xlow, xhigh]);\n",
    "\n",
    "sbn.violinplot(x=x_value, y='network', data=table_combined.query('network==\"group_6\"'), color=colors[5], ax=ax_group6, linewidth=lw);\n",
    "ax_group6.set_xlabel('')\n",
    "ax_group6.vlines(0.5, *[-1.5, 1.5], linewidth=lw, color='grey', zorder=0)\n",
    "ax_group6.set_ylim([-1.5, 1.5])\n",
    "ax_group6.set_ylabel('')\n",
    "ax_group6.set_xlim([xlow, xhigh]);\n",
    "\n",
    "sbn.violinplot(x=x_value, y='network', data=table_combined.query('network==\"group_7\"'), color=colors[6], ax=ax_group7, linewidth=lw);\n",
    "ax_group7.vlines(0.5, *[-1.5, 1.5], linewidth=lw, color='grey', zorder=0)\n",
    "ax_group7.set_ylim([-1.5, 1.5])\n",
    "ax_group7.set_ylabel('')\n",
    "ax_group7.set_xlabel('')\n",
    "ax_group7.set_xlabel('PPV', labelpad=5, fontsize=10)\n",
    "\n",
    "ax_group7.tick_params(axis='x', which='major', labelsize=10)\n",
    "ax_group7.set_xticks((0, 0.5, 1))\n",
    "ax_group7.set_xticklabels((0, 0.5, 1))\n",
    "\n",
    "ax_group7.set_xlim([xlow, xhigh]);\n",
    "\n",
    "f.savefig(fig_p / 'violin_group.png', bbox_inches='tight', dpi=dpi, transparent=True, pad_inches=0)\n",
    "f.savefig(fig_p / 'violin_group.pdf', bbox_inches='tight', dpi=dpi, transparent=True, pad_inches=0)"
   ]
  },
  {
   "cell_type": "code",
   "execution_count": 38,
   "metadata": {},
   "outputs": [
    {
     "data": {
      "image/png": "[encoded data removed]",
      "text/plain": [
       "<Figure size 127.559x283.465 with 2 Axes>"
      ]
     },
     "metadata": {
      "needs_background": "light"
     },
     "output_type": "display_data"
    }
   ],
   "source": [
    "# Violin 2 (ensemble, no names)\n",
    "xlow = -0.1\n",
    "xhigh = 1.1\n",
    "x_value = 'precision'\n",
    "lw = 1\n",
    "\n",
    "fs_xtick = 12\n",
    "fs_ytick = 18\n",
    "fs_label = 22\n",
    "\n",
    "split_colors = ens_colors\n",
    "\n",
    "dpi=300\n",
    "scale_factor = 1\n",
    "height = 100 * scale_factor\n",
    "width = 45 * scale_factor\n",
    "\n",
    "f = plt.figure(figsize=(mm2in(width),mm2in(height)), constrained_layout=True)\n",
    "gs = gridspec.GridSpec(ncols=1, nrows=18, hspace=0)\n",
    "\n",
    "ax_split1 = f.add_subplot(gs[:9, 0])\n",
    "ax_split2 = f.add_subplot(gs[9:, 0])\n",
    "ax_split1.tick_params(axis='both', bottom=False, top=False, right=False, left=False, labelbottom=False, labelleft=False)\n",
    "ax_split2.tick_params(axis='both', bottom=True, top=False, right=False, left=False, labelbottom=True, labelleft=False)\n",
    "\n",
    "\n",
    "sbn.violinplot(x=x_value, y='network', data=table_split.query('network==\"group_1\"'), color=split_colors[0], \n",
    "            ax=ax_split1, showmeans=True, linewidth=lw);\n",
    "ax_split1.set_ylabel('')\n",
    "ax_split1.vlines(0.5, *[-1.5, 1.5], linewidth=lw, color='grey', zorder=0)\n",
    "ax_split1.set_ylim([-1.5, 1.5])\n",
    "ax_split1.set_yticks([])\n",
    "ax_split1.set_xlabel('')\n",
    "ax_split1.set_xlim([xlow, xhigh]);\n",
    "ax_split1.set_title('ensemble models', fontsize=10);\n",
    "\n",
    "sbn.violinplot(x=x_value, y='network', data=table_split.query('network==\"group_2\"'), color=split_colors[1], \n",
    "            ax=ax_split2, showmeans=True, linewidth=lw);\n",
    "ax_split2.set_ylabel('')\n",
    "ax_split2.set_xlabel('')\n",
    "ax_split2.set_xlabel('PPV', labelpad=5, fontsize=10)\n",
    "\n",
    "ax_split2.tick_params(axis='x', which='major', labelsize=10)\n",
    "ax_split2.set_xticks((0, 0.5, 1))\n",
    "ax_split2.set_xticklabels((0, 0.5, 1))\n",
    "ax_split2.vlines(0.5, *[-1.5, 1.5], linewidth=lw, color='grey', zorder=0)\n",
    "ax_split2.set_ylim([-1.5, 1.5])\n",
    "ax_split2.set_yticks([])\n",
    "ax_split2.set_xlim([xlow, xhigh]);\n",
    "\n",
    "f.savefig(fig_p / 'violin_ensemble.png', bbox_inches='tight', dpi=dpi, transparent=True, pad_inches=0)\n",
    "f.savefig(fig_p / 'violin_ensemble.pdf', bbox_inches='tight', dpi=dpi, transparent=True, pad_inches=0)"
   ]
  },
  {
   "cell_type": "markdown",
   "metadata": {},
   "source": [
    "## Networks"
   ]
  },
  {
   "cell_type": "code",
   "execution_count": 39,
   "metadata": {},
   "outputs": [],
   "source": [
    "order = np.array([18,  3,  9,  5, 16,  1, 13,  4, 12,  2,  7, 10, 11,  6, 17,  8, 14,\n",
    "       15])-1"
   ]
  },
  {
   "cell_type": "code",
   "execution_count": 40,
   "metadata": {},
   "outputs": [],
   "source": [
    "# Manual partition\n",
    "part_dict = {1: [18],\n",
    "             2: [3, 9, 5, 16],\n",
    "             3: [1],\n",
    "             4: [13, 4, 12],\n",
    "             5: [2, 7, 10],\n",
    "             6: [11, 6, 17],\n",
    "             7: [8, 14, 15]\n",
    "            }\n",
    "manual_part = np.array([p for i in order  for p, v in part_dict.items() if i+1 in v])"
   ]
  },
  {
   "cell_type": "code",
   "execution_count": 41,
   "metadata": {},
   "outputs": [],
   "source": [
    "#cmp = LinearSegmentedColormap.from_list('lala', colors, N=7)\n",
    "cmp_7 = LinearSegmentedColormap.from_list('lala', group_7_colors, N=7)\n",
    "\n",
    "cmp_2 = LinearSegmentedColormap.from_list('lala', ens_colors, N=2)"
   ]
  },
  {
   "cell_type": "code",
   "execution_count": 42,
   "metadata": {},
   "outputs": [],
   "source": [
    "cmp = LinearSegmentedColormap.from_list('lala', group_18_colors, N=18)"
   ]
  },
  {
   "cell_type": "code",
   "execution_count": 43,
   "metadata": {},
   "outputs": [],
   "source": [
    "ens_1 = [1, 2, 3, 4]\n",
    "ens_2 = [5, 6, 7]"
   ]
  },
  {
   "cell_type": "code",
   "execution_count": 44,
   "metadata": {},
   "outputs": [],
   "source": [
    "# Remap atlas numbers to the 7 groups\n",
    "atlas = atlas_i.get_data().astype(int)\n",
    "atlas_masked = np.zeros(shape=(atlas.shape))\n",
    "atlas_ens1 = np.zeros(shape=(atlas.shape))\n",
    "atlas_ens2 = np.zeros(shape=(atlas.shape))\n",
    "atlas_ens = np.zeros(shape=(atlas.shape))\n",
    "for i in np.arange(1,8):    \n",
    "    for j in part_dict[i]:\n",
    "        # convert j to real j\n",
    "        real_j = network_labels.iloc[j-1].roi\n",
    "        if i <=4:\n",
    "            atlas_ens1[atlas==real_j] = i\n",
    "            atlas_masked[atlas==real_j] = 1\n",
    "        else:\n",
    "            atlas_ens2[atlas==real_j] = i\n",
    "            atlas_masked[atlas==real_j] = 2\n",
    "        atlas_ens[atlas==real_j] = i\n",
    "atlas_masked_i = nib.Nifti1Image(atlas_masked, affine=atlas_i.affine, header=atlas_i.header)\n",
    "atlas_ens_i = nib.Nifti1Image(atlas_ens, affine=atlas_i.affine, header=atlas_i.header)\n",
    "atlas_ens1_i = nib.Nifti1Image(atlas_ens1, affine=atlas_i.affine, header=atlas_i.header)\n",
    "atlas_ens2_i = nib.Nifti1Image(atlas_ens2, affine=atlas_i.affine, header=atlas_i.header)"
   ]
  },
  {
   "cell_type": "code",
   "execution_count": 45,
   "metadata": {},
   "outputs": [],
   "source": [
    "# Remap atlas numbers to the 18 ordering\n",
    "atlas = atlas_i.get_data().astype(int)\n",
    "atlas_ens = np.zeros(shape=(atlas.shape))\n",
    "\n",
    "for idx, val in enumerate(order):\n",
    "    real_j = network_labels.iloc[val].roi\n",
    "    atlas_ens[atlas==real_j] = idx+1\n",
    "atlas_ens_i = nib.Nifti1Image(atlas_ens, affine=atlas_i.affine, header=atlas_i.header)"
   ]
  },
  {
   "cell_type": "code",
   "execution_count": 46,
   "metadata": {},
   "outputs": [],
   "source": [
    "atlas_comb = np.zeros(shape=(atlas.shape))\n",
    "\n",
    "for comb in part_dict.keys():\n",
    "    for val in part_dict[comb]:\n",
    "        real_j = network_labels.iloc[val-1].roi\n",
    "        atlas_comb[atlas==real_j] = comb\n",
    "atlas_comb_i = nib.Nifti1Image(atlas_comb, affine=atlas_i.affine, header=atlas_i.header)"
   ]
  },
  {
   "cell_type": "markdown",
   "metadata": {},
   "source": [
    "## Triple brains"
   ]
  },
  {
   "cell_type": "code",
   "execution_count": 73,
   "metadata": {},
   "outputs": [],
   "source": [
    "coords = (10,5,0)"
   ]
  },
  {
   "cell_type": "code",
   "execution_count": 48,
   "metadata": {},
   "outputs": [
    {
     "name": "stderr",
     "output_type": "stream",
     "text": [
      "/home/surchs/Packages/conda/envs/abide/lib/python3.7/site-packages/nilearn/plotting/displays.py:1239: DeprecationWarning: Using or importing the ABCs from 'collections' instead of from 'collections.abc' is deprecated, and in 3.8 it will stop working\n",
      "  if (not isinstance(cut_coords, collections.Sequence) and\n",
      "/home/surchs/Packages/conda/envs/abide/lib/python3.7/site-packages/scipy/ndimage/measurements.py:272: DeprecationWarning: In future, it will be an error for 'np.bool_' scalars to be interpreted as an index\n",
      "  return _nd_image.find_objects(input, max_label)\n"
     ]
    },
    {
     "data": {
      "image/png": "[encoded data removed]",
      "text/plain": [
       "<Figure size 141.732x141.732 with 6 Axes>"
      ]
     },
     "metadata": {
      "needs_background": "light"
     },
     "output_type": "display_data"
    }
   ],
   "source": [
    "# Individual brain slices and both networks together\n",
    "dpi=300\n",
    "scale_factor = 1\n",
    "height = 50 * scale_factor\n",
    "width = 50 * scale_factor\n",
    "\n",
    "lw=0.5\n",
    "\n",
    "fig = plt.figure(figsize=(mm2in(width),mm2in(height)), constrained_layout=True)\n",
    "gs = gridspec.GridSpec(ncols=2, nrows=2, hspace=-0.1)\n",
    "\n",
    "ax_sag = fig.add_subplot(gs[0, :])\n",
    "ax_cor = fig.add_subplot(gs[1, 0])\n",
    "ax_ax = fig.add_subplot(gs[1,1])\n",
    "\n",
    "g = nlp.plot_roi(atlas_ens_i, cmap=cmp, cut_coords=(coords[0],), display_mode='x', axes=ax_sag, vmin=1, \n",
    "                 vmax=18, draw_cross=False, annotate=False, black_bg=False);\n",
    "#g.annotate(fontsize=10)\n",
    "g.add_contours(atlas_masked_i, filled=False, alpha=1, levels=[0.5, 1.5], colors='black', linewidths=lw)\n",
    "\n",
    "g = nlp.plot_roi(atlas_ens_i, cmap=cmp, cut_coords=(coords[1],), display_mode='y', axes=ax_cor, vmin=1, vmax=18, draw_cross=False, \n",
    "             annotate=False, black_bg=False);\n",
    "g.add_contours(atlas_masked_i, filled=False, alpha=1, levels=[0.5, 1.5], colors='black', linewidths=lw)\n",
    "#g.annotate(fontsize=10)\n",
    "\n",
    "g = nlp.plot_roi(atlas_ens_i, cmap=cmp, cut_coords=(coords[2],), display_mode='z', axes=ax_ax, vmin=1, vmax=18, \n",
    "             draw_cross=False, annotate=False, black_bg=False);\n",
    "#g.annotate(fontsize=10)\n",
    "g.add_contours(atlas_masked_i, filled=False, alpha=1, levels=[0.5, 1.5], colors='black', linewidths=lw)\n",
    "\n",
    "fig.savefig(fig_p / 'brain_x_individual.png', bbox_inches='tight', dpi=dpi, transparent=True, pad_inches=0)\n",
    "fig.savefig(fig_p / 'brain_x_individual.pdf', bbox_inches='tight', dpi=dpi, transparent=True, pad_inches=0)"
   ]
  },
  {
   "cell_type": "code",
   "execution_count": 49,
   "metadata": {},
   "outputs": [
    {
     "data": {
      "image/png": "[encoded data removed]",
      "text/plain": [
       "<Figure size 141.732x141.732 with 6 Axes>"
      ]
     },
     "metadata": {
      "needs_background": "light"
     },
     "output_type": "display_data"
    }
   ],
   "source": [
    "# combined networks\n",
    "dpi=300\n",
    "scale_factor = 1\n",
    "height = 50 * scale_factor\n",
    "width = 50 * scale_factor\n",
    "\n",
    "lw=0.5\n",
    "\n",
    "fig = plt.figure(figsize=(mm2in(width),mm2in(height)), constrained_layout=True)\n",
    "gs = gridspec.GridSpec(ncols=2, nrows=2, hspace=-0.1)\n",
    "\n",
    "ax_sag = fig.add_subplot(gs[0, :])\n",
    "ax_cor = fig.add_subplot(gs[1, 0])\n",
    "ax_ax = fig.add_subplot(gs[1,1])\n",
    "\n",
    "g = nlp.plot_roi(atlas_comb_i, cmap=cmp_7, cut_coords=(coords[0],), display_mode='x', axes=ax_sag, vmin=1, \n",
    "                 vmax=7, draw_cross=False, annotate=False, black_bg=False);\n",
    "#g.annotate(fontsize=10)\n",
    "g.add_contours(atlas_masked_i, filled=False, alpha=1, levels=[0.5, 1.5], colors='black', linewidths=lw)\n",
    "\n",
    "g = nlp.plot_roi(atlas_comb_i, cmap=cmp_7, cut_coords=(coords[1],), display_mode='y', axes=ax_cor, vmin=1, vmax=7, draw_cross=False, \n",
    "             annotate=False, black_bg=False);\n",
    "g.add_contours(atlas_masked_i, filled=False, alpha=1, levels=[0.5, 1.5], colors='black', linewidths=lw)\n",
    "#g.annotate(fontsize=10)\n",
    "\n",
    "g = nlp.plot_roi(atlas_comb_i, cmap=cmp_7, cut_coords=(coords[2],), display_mode='z', axes=ax_ax, vmin=1, vmax=7, \n",
    "             draw_cross=False, annotate=False, black_bg=False);\n",
    "#g.annotate(fontsize=10)\n",
    "g.add_contours(atlas_masked_i, filled=False, alpha=1, levels=[0.5, 1.5], colors='black', linewidths=lw)\n",
    "\n",
    "fig.savefig(fig_p / 'brain_x_combined.png', bbox_inches='tight', dpi=dpi, transparent=True, pad_inches=0)\n",
    "fig.savefig(fig_p / 'brain_x_combined.pdf', bbox_inches='tight', dpi=dpi, transparent=True, pad_inches=0)"
   ]
  },
  {
   "cell_type": "code",
   "execution_count": 50,
   "metadata": {},
   "outputs": [
    {
     "data": {
      "image/png": "[encoded data removed]",
      "text/plain": [
       "<Figure size 141.732x141.732 with 6 Axes>"
      ]
     },
     "metadata": {
      "needs_background": "light"
     },
     "output_type": "display_data"
    }
   ],
   "source": [
    "# ensemble\n",
    "dpi=300\n",
    "scale_factor = 1\n",
    "height = 50 * scale_factor\n",
    "width = 50 * scale_factor\n",
    "\n",
    "lw=0.5\n",
    "\n",
    "fig = plt.figure(figsize=(mm2in(width),mm2in(height)), constrained_layout=True)\n",
    "gs = gridspec.GridSpec(ncols=2, nrows=2, hspace=-0.1)\n",
    "\n",
    "ax_sag = fig.add_subplot(gs[0, :])\n",
    "ax_cor = fig.add_subplot(gs[1, 0])\n",
    "ax_ax = fig.add_subplot(gs[1,1])\n",
    "\n",
    "g = nlp.plot_roi(atlas_masked_i, cmap=cmp_2, cut_coords=(coords[0],), display_mode='x', axes=ax_sag, vmin=1, \n",
    "                 vmax=2, draw_cross=False, annotate=False, black_bg=False);\n",
    "#g.annotate(fontsize=10)\n",
    "g.add_contours(atlas_masked_i, filled=False, alpha=1, levels=[0.5, 1.5], colors='black', linewidths=lw)\n",
    "\n",
    "g = nlp.plot_roi(atlas_masked_i, cmap=cmp_2, cut_coords=(coords[1],), display_mode='y', axes=ax_cor, vmin=1, vmax=2, draw_cross=False, \n",
    "             annotate=False, black_bg=False);\n",
    "g.add_contours(atlas_masked_i, filled=False, alpha=1, levels=[0.5, 1.5], colors='black', linewidths=lw)\n",
    "#g.annotate(fontsize=10)\n",
    "\n",
    "g = nlp.plot_roi(atlas_masked_i, cmap=cmp_2, cut_coords=(coords[2],), display_mode='z', axes=ax_ax, vmin=1, vmax=2, \n",
    "             draw_cross=False, annotate=False, black_bg=False);\n",
    "#g.annotate(fontsize=10)\n",
    "g.add_contours(atlas_masked_i, filled=False, alpha=1, levels=[0.5, 1.5], colors='black', linewidths=lw)\n",
    "\n",
    "fig.savefig(fig_p / 'brain_x_ensemble.png', bbox_inches='tight', dpi=dpi, transparent=True, pad_inches=0)\n",
    "fig.savefig(fig_p / 'brain_x_ensemble.pdf', bbox_inches='tight', dpi=dpi, transparent=True, pad_inches=0)"
   ]
  },
  {
   "cell_type": "code",
   "execution_count": null,
   "metadata": {},
   "outputs": [],
   "source": []
  },
  {
   "cell_type": "code",
   "execution_count": 51,
   "metadata": {},
   "outputs": [
    {
     "data": {
      "image/png": "[encoded data removed]",
      "text/plain": [
       "<Figure size 141.732x99.2126 with 2 Axes>"
      ]
     },
     "metadata": {
      "needs_background": "light"
     },
     "output_type": "display_data"
    }
   ],
   "source": [
    "dpi=300\n",
    "scale_factor = 1\n",
    "height = 35 * scale_factor\n",
    "width = 50 * scale_factor\n",
    "\n",
    "fig = plt.figure(figsize=(mm2in(width),mm2in(height)), constrained_layout=True)\n",
    "ax = fig.add_subplot(111)\n",
    "g = nlp.plot_roi(atlas_comb_i, cmap=cmp_7, cut_coords=(coords[0],), display_mode='x', axes=ax, vmin=1, \n",
    "                 vmax=7, draw_cross=False, annotate=False, black_bg=False);\n",
    "g.annotate(fontsize=10)\n",
    "g.add_contours(atlas_masked_i, filled=False, alpha=1, levels=[0.5, 1.5], colors='black', linewidths=1)"
   ]
  },
  {
   "cell_type": "code",
   "execution_count": 52,
   "metadata": {},
   "outputs": [
    {
     "data": {
      "text/plain": [
       "['#FFB647', '#FE2908', '#BF7400', '#FED908', '#52DD07', '#1258A6', '#5E12AC']"
      ]
     },
     "execution_count": 52,
     "metadata": {},
     "output_type": "execute_result"
    }
   ],
   "source": [
    "group_7_colors"
   ]
  },
  {
   "cell_type": "code",
   "execution_count": 53,
   "metadata": {},
   "outputs": [
    {
     "data": {
      "image/png": "[encoded data removed]",
      "text/plain": [
       "<Figure size 141.732x99.2126 with 2 Axes>"
      ]
     },
     "metadata": {
      "needs_background": "light"
     },
     "output_type": "display_data"
    }
   ],
   "source": [
    "# Individual brain slices and both networks together\n",
    "dpi=300\n",
    "scale_factor = 1\n",
    "height = 35 * scale_factor\n",
    "width = 50 * scale_factor\n",
    "\n",
    "fig = plt.figure(figsize=(mm2in(width),mm2in(height)), constrained_layout=True)\n",
    "ax = fig.add_subplot(111)\n",
    "g = nlp.plot_roi(atlas_ens_i, cmap=cmp, cut_coords=(coords[0],), display_mode='x', axes=ax, vmin=1, \n",
    "                 vmax=18, draw_cross=False, annotate=False, black_bg=False);\n",
    "g.annotate(fontsize=10)\n",
    "g.add_contours(atlas_masked_i, filled=False, alpha=1, levels=[0.5, 1.5], colors='black', linewidths=1)\n",
    "\n",
    "fig.savefig(fig_p / 'brain_x.png', bbox_inches='tight', dpi=dpi, transparent=True, pad_inches=0)\n",
    "fig.savefig(fig_p / 'brain_x.pdf', bbox_inches='tight', dpi=dpi, transparent=True, pad_inches=0)"
   ]
  },
  {
   "cell_type": "code",
   "execution_count": 72,
   "metadata": {},
   "outputs": [
    {
     "data": {
      "image/png": "[encoded data removed]",
      "text/plain": [
       "<Figure size 141.732x99.2126 with 2 Axes>"
      ]
     },
     "metadata": {
      "needs_background": "light"
     },
     "output_type": "display_data"
    }
   ],
   "source": [
    "# Individual brain slices and both networks together\n",
    "dpi=300\n",
    "scale_factor = 1\n",
    "height = 35 * scale_factor\n",
    "width = 50 * scale_factor\n",
    "\n",
    "fig = plt.figure(figsize=(mm2in(width),mm2in(height)), constrained_layout=True)\n",
    "ax = fig.add_subplot(111)\n",
    "g = nlp.plot_roi(atlas_ens_i, cmap=cmp, cut_coords=(coords[1],), display_mode='y', axes=ax, vmin=1, vmax=18, draw_cross=False, \n",
    "             annotate=False, black_bg=False);\n",
    "g.annotate(fontsize=10)\n",
    "g.add_contours(atlas_masked_i, filled=False, alpha=1, levels=[0.5, 1.5], colors='black', linewidths=1)\n",
    "fig.savefig(fig_p / 'brain_y.png', bbox_inches='tight', dpi=dpi, transparent=True, pad_inches=0)\n",
    "fig.savefig(fig_p / 'brain_y.pdf', bbox_inches='tight', dpi=dpi, transparent=True, pad_inches=0)"
   ]
  },
  {
   "cell_type": "code",
   "execution_count": 55,
   "metadata": {},
   "outputs": [
    {
     "data": {
      "image/png": "[encoded data removed]",
      "text/plain": [
       "<Figure size 141.732x99.2126 with 2 Axes>"
      ]
     },
     "metadata": {
      "needs_background": "light"
     },
     "output_type": "display_data"
    }
   ],
   "source": [
    "# Individual brain slices and both networks together\n",
    "dpi=300\n",
    "scale_factor = 1\n",
    "height = 35 * scale_factor\n",
    "width = 50 * scale_factor\n",
    "\n",
    "fig = plt.figure(figsize=(mm2in(width),mm2in(height)), constrained_layout=True)\n",
    "ax = fig.add_subplot(111)\n",
    "g = nlp.plot_roi(atlas_ens_i, cmap=cmp, cut_coords=(coords[2],), display_mode='z', axes=ax, vmin=1, vmax=18, \n",
    "             draw_cross=False, annotate=False, black_bg=False);\n",
    "g.annotate(fontsize=10)\n",
    "g.add_contours(atlas_masked_i, filled=False, alpha=1, levels=[0.5, 1.5], colors='black', linewidths=1)\n",
    "fig.savefig(fig_p / 'brain_z.png', bbox_inches='tight', dpi=dpi, transparent=True, pad_inches=0)\n",
    "fig.savefig(fig_p / 'brain_z.pdf', bbox_inches='tight', dpi=dpi, transparent=True, pad_inches=0)"
   ]
  }
 ],
 "metadata": {
  "kernelspec": {
   "display_name": "Python 3 (ipykernel)",
   "language": "python",
   "name": "python3"
  },
  "language_info": {
   "codemirror_mode": {
    "name": "ipython",
    "version": 3
   },
   "file_extension": ".py",
   "mimetype": "text/x-python",
   "name": "python",
   "nbconvert_exporter": "python",
   "pygments_lexer": "ipython3",
   "version": "3.10.10"
  }
 },
 "nbformat": 4,
 "nbformat_minor": 4
}
